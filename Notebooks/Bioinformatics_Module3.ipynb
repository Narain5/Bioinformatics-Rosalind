{
  "nbformat": 4,
  "nbformat_minor": 0,
  "metadata": {
    "colab": {
      "provenance": [],
      "collapsed_sections": [
        "jYlnA2Z2FhoW",
        "qRj8vCvXG-1k",
        "s7deJQCHHwOa",
        "GtjxkNHWN5Xo",
        "3yswDberkE7N",
        "4IM-9eAGkPdi",
        "nlBbe3qBRH_J",
        "_F9KCUzCd3ID",
        "iHFNxm30lzic",
        "sOgq54Op4MZL",
        "R5_dYi9f6t1z",
        "LdtXZ0LW9ugo",
        "i4Fo-ddSKWwy",
        "iupO8iI-ZYAe",
        "lY924yM0jckW",
        "NvqGEl4JjpiO",
        "DHzE7CI4lWGw",
        "WD5wnvQkmh6E",
        "kApNvgOLn8lp",
        "kq9QbEttnA4h"
      ]
    },
    "kernelspec": {
      "name": "python3",
      "display_name": "Python 3"
    },
    "language_info": {
      "name": "python"
    }
  },
  "cells": [
    {
      "cell_type": "markdown",
      "source": [
        "# **<font color=blue>P1.** </font>Rename this notebook **Bioinformatics_Module03.ipynb </font><br>**"
      ],
      "metadata": {
        "id": "l3h89jAYBUzz"
      }
    },
    {
      "cell_type": "markdown",
      "source": [
        "# **<font color=blue>P2. </font>**```print()```writes to standard output (i.e. prints output to the screen)"
      ],
      "metadata": {
        "id": "jYlnA2Z2FhoW"
      }
    },
    {
      "cell_type": "markdown",
      "source": [
        "####**TASK P2.1:** Print <font color = magenta>hello world</font>"
      ],
      "metadata": {
        "id": "r118fqQodA9x"
      }
    },
    {
      "cell_type": "code",
      "source": [
        "print(\"hello world\")"
      ],
      "metadata": {
        "id": "kvxK8D5uFx_x"
      },
      "execution_count": null,
      "outputs": []
    },
    {
      "cell_type": "markdown",
      "source": [
        "# **<font color=blue>P3. </font>**```=``` is the ASSIGNMENT operator (assigns values to variables)\n",
        "####**TASK P3.1:** Ask Gemini, \"*Give me 3 examples to help practice understanding the assignment operator.*\""
      ],
      "metadata": {
        "id": "qRj8vCvXG-1k"
      }
    },
    {
      "cell_type": "code",
      "source": [
        "x=5\n",
        "x"
      ],
      "metadata": {
        "id": "VB8HPNe7JpuJ"
      },
      "execution_count": null,
      "outputs": []
    },
    {
      "cell_type": "markdown",
      "source": [
        "# **<font color=blue>P4. </font>** Data types: use ```type()``` to find a variable's \"type\"\n",
        "####**TASK P4.1:** Ask Gemini, \"*Give me examples of each data type to see how they look as outputs.*\""
      ],
      "metadata": {
        "id": "s7deJQCHHwOa"
      }
    },
    {
      "cell_type": "code",
      "source": [
        "type(x))"
      ],
      "metadata": {
        "colab": {
          "base_uri": "https://localhost:8080/"
        },
        "id": "ktR75uWIJ0uc",
        "outputId": "3a13d830-94ae-49a8-8f1f-16d97cd46292"
      },
      "execution_count": null,
      "outputs": [
        {
          "output_type": "execute_result",
          "data": {
            "text/plain": [
              "int"
            ]
          },
          "metadata": {},
          "execution_count": 20
        }
      ]
    },
    {
      "cell_type": "markdown",
      "source": [
        "# **<font color=blue>P5. </font>** Arithmetic and comparison operators\n",
        "####**TASK P5.1:**   Complete Rosalind #1"
      ],
      "metadata": {
        "id": "GtjxkNHWN5Xo"
      }
    },
    {
      "cell_type": "code",
      "source": [
        "y=2+3\n",
        "print(y)\n",
        "x==y"
      ],
      "metadata": {
        "id": "45s9c4vyQm2U"
      },
      "execution_count": null,
      "outputs": []
    },
    {
      "cell_type": "markdown",
      "source": [
        "# **<font color=blue>P6. </font>** ```input()``` gets input from the user"
      ],
      "metadata": {
        "id": "3yswDberkE7N"
      }
    },
    {
      "cell_type": "markdown",
      "source": [
        "TASK P6.1"
      ],
      "metadata": {
        "id": "z97rSY9gqdad"
      }
    },
    {
      "cell_type": "code",
      "metadata": {
        "colab": {
          "base_uri": "https://localhost:8080/"
        },
        "id": "d91046dd",
        "outputId": "19603f49-902d-4132-ed03-32ca502e3991"
      },
      "source": [
        "name = input(\"Enter your name: \")\n",
        "print(\"Hello, \" + name)"
      ],
      "execution_count": null,
      "outputs": [
        {
          "output_type": "stream",
          "name": "stdout",
          "text": [
            "Enter your name: Jeff\n",
            "Hello, Jeff\n"
          ]
        }
      ]
    },
    {
      "cell_type": "markdown",
      "source": [
        "####**TASK P6.1:** Solve Rosalind #1 again, but get user input for the values of a and b rather than modifying the code."
      ],
      "metadata": {
        "id": "e3LaAQeLRmE6"
      }
    },
    {
      "cell_type": "code",
      "source": [
        "a= int(input(\"enter a value for a:\"))\n",
        "b= int(input(\"enter a value for b:\"))\n",
        "c=a**2+b**2\n",
        "print (\"The sq of the hypotenuse is\",c)"
      ],
      "metadata": {
        "id": "wZ0XL0L6Rq2H",
        "outputId": "04716dee-2527-4d02-cae1-358d6be7978d",
        "colab": {
          "base_uri": "https://localhost:8080/"
        }
      },
      "execution_count": 1,
      "outputs": [
        {
          "output_type": "stream",
          "name": "stdout",
          "text": [
            "enter a value for a:828\n",
            "enter a value for b:854\n",
            "The sq of the hypotenuse is 1414900\n"
          ]
        }
      ]
    },
    {
      "cell_type": "markdown",
      "source": [
        "# **<font color=blue>P7. </font>** ```list``` type variables (create, replace, append)"
      ],
      "metadata": {
        "id": "4IM-9eAGkPdi"
      }
    },
    {
      "cell_type": "markdown",
      "source": [
        "####**TASK P7.1**"
      ],
      "metadata": {
        "id": "DhNGdYK6NEpe"
      }
    },
    {
      "cell_type": "code",
      "source": [
        "# Create a list with 3 elements and then print them\n",
        "\n",
        "my_list = [\"Hello\", \"World\", \"Charles Darwin\"]\n",
        "print (my_list[1])"
      ],
      "metadata": {
        "id": "N3VRRQIEkXuP"
      },
      "execution_count": null,
      "outputs": []
    },
    {
      "cell_type": "markdown",
      "source": [
        "####**TASK P7.2**"
      ],
      "metadata": {
        "id": "Yn3bAoi8NKy5"
      }
    },
    {
      "cell_type": "code",
      "source": [
        "# Substitute the item at index 2 in the list\n",
        "my_list[2] = \"Alfred R. Wallace\"\n",
        "print (my_list)"
      ],
      "metadata": {
        "id": "WNnsUuduOKbI"
      },
      "execution_count": null,
      "outputs": []
    },
    {
      "cell_type": "markdown",
      "source": [
        "####**TASK P7.3**"
      ],
      "metadata": {
        "id": "SxiMMNLyPwGV"
      }
    },
    {
      "cell_type": "code",
      "source": [
        "# Append an item to the end of the list\n",
        "my_list.append(\"Charles Darwin\")\n",
        "print (my_list)"
      ],
      "metadata": {
        "id": "3VrLc6CGQTi-"
      },
      "execution_count": null,
      "outputs": []
    },
    {
      "cell_type": "markdown",
      "source": [
        "####**TASK P7.4**. Ask Gemini how to <font color=crimson>```insert```</font> a new item at index 1 in the list"
      ],
      "metadata": {
        "id": "XQKmwgbfQond"
      }
    },
    {
      "cell_type": "code",
      "source": [
        "# On line #2 insert an item at index 1 of my_list\n",
        "\n",
        "print (my_list)"
      ],
      "metadata": {
        "id": "u0maP5CZZN13"
      },
      "execution_count": null,
      "outputs": []
    },
    {
      "cell_type": "markdown",
      "source": [
        "# **<font color=blue>P8. </font>** Slicing lists and strings"
      ],
      "metadata": {
        "id": "nlBbe3qBRH_J"
      }
    },
    {
      "cell_type": "markdown",
      "source": [
        "####**TASK P8.1** Slice and print only the middle two elements from the list created in P7 (i.e. only <font color=magenta>World</font> and <font color=magenta>Alfred R. Wallace</font>).  "
      ],
      "metadata": {
        "id": "M0YW2MP0WtuI"
      }
    },
    {
      "cell_type": "code",
      "source": [
        "print (my_list[2:4])"
      ],
      "metadata": {
        "colab": {
          "base_uri": "https://localhost:8080/"
        },
        "id": "Tp1djNtiaxSb",
        "outputId": "4a31ce1e-1575-4d0f-8860-6096ea8bad83"
      },
      "execution_count": null,
      "outputs": [
        {
          "output_type": "stream",
          "name": "stdout",
          "text": [
            "['World', 'Alfred R. Wallace']\n"
          ]
        }
      ]
    },
    {
      "cell_type": "markdown",
      "source": [
        "####**TASK P8.2**: Print <font color=magenta>Wallace World</font> from **my_string** by slicing\n"
      ],
      "metadata": {
        "id": "_F9KCUzCd3ID"
      }
    },
    {
      "cell_type": "code",
      "source": [
        "my_string = \"HelloWorldCharlesDarwinAlfred R. Walace\"\n",
        "print (my_string[0:5],my_string[5:10])\n",
        "\n",
        "# in the print command below input the correct index values to complete Task P8.2\n",
        "print (my_string[ : ],my_string[ : ])"
      ],
      "metadata": {
        "colab": {
          "base_uri": "https://localhost:8080/"
        },
        "id": "AafKngtba8En",
        "outputId": "5b35aa9b-37ad-4a2f-bc3f-4d3f4358991f"
      },
      "execution_count": null,
      "outputs": [
        {
          "output_type": "stream",
          "name": "stdout",
          "text": [
            "Hello World\n",
            "HelloWorldCharlesDarwinAlfred R. Walace HelloWorldCharlesDarwinAlfred R. Walace\n"
          ]
        }
      ]
    },
    {
      "cell_type": "markdown",
      "source": [
        "####**TASK P8.3**  **<font color = orange> Complete Rosalind Problem #2 Strings and Lists</font>**"
      ],
      "metadata": {
        "id": "2TTQVE-Xf8jR"
      }
    },
    {
      "cell_type": "code",
      "source": [
        "# Enter code for Rosalind 2 here:\n",
        "# Input\n",
        "s = \"bUmSI0KJ83UZOsteopilusoYKzRhoUlfcVKJloxt8ibVPLYoNVDr7kxZGSjb1WBsgRK1j77WrZp0zyYN2P5Js44bZNczTqkJG9ArKHIx2bZF36u4iMssy2muad1u55NqV6Hvc2Lxyc5b4x2Sy15botnicaKTz0dgCZmqqhGioKOtk.\"\n",
        "a, b, c, d = 12, 21, 147, 153\n",
        "\n",
        "# Slicing the string (inclusive, so we use b+1 and d+1)\n",
        "result = s[a:b+1] + \" \" + s[c:d+1]\n",
        "\n",
        "# Output\n",
        "print(result)"
      ],
      "metadata": {
        "id": "LI88f5RZh4GL",
        "outputId": "e70a50ee-a1d2-4045-8207-f3c161a9a182",
        "colab": {
          "base_uri": "https://localhost:8080/"
        }
      },
      "execution_count": 3,
      "outputs": [
        {
          "output_type": "stream",
          "name": "stdout",
          "text": [
            "Osteopilus botnica\n"
          ]
        }
      ]
    },
    {
      "cell_type": "markdown",
      "source": [
        "####**<font color=crimson>TASK 8.4 Commit to GitHub**</font>*italicized text*"
      ],
      "metadata": {
        "id": "Tw6Pwh6TjwJ9"
      }
    },
    {
      "cell_type": "markdown",
      "source": [
        "# **<font color=blue>P9. </font>** ```if``` and ```else``` - conditional output"
      ],
      "metadata": {
        "id": "iHFNxm30lzic"
      }
    },
    {
      "cell_type": "markdown",
      "source": [
        "####**TASK P9.1** Create some code that subtracts two numbers if they are different or adds them if they are the same."
      ],
      "metadata": {
        "id": "WCXnGdftztbN"
      }
    },
    {
      "cell_type": "code",
      "source": [
        "a=5\n",
        "b=5\n",
        "\n",
        "if a!=b:\n",
        "  print(a-b)\n",
        "\n",
        "else:\n",
        "  print(a+b)"
      ],
      "metadata": {
        "id": "KabZsL5Fy8jJ"
      },
      "execution_count": null,
      "outputs": []
    },
    {
      "cell_type": "markdown",
      "source": [
        "# **<font color=blue>P10.</font>** ```while``` loops"
      ],
      "metadata": {
        "id": "sOgq54Op4MZL"
      }
    },
    {
      "cell_type": "markdown",
      "source": [
        "####**TASK P10.1** Create a while loop that runs 3 times\n"
      ],
      "metadata": {
        "id": "JMqGqhTn4l9s"
      }
    },
    {
      "cell_type": "code",
      "source": [
        "#initiate a counter\n",
        "a = 1\n",
        "\n",
        "#print \"Counting!\" while a<=3\n",
        "while a <= 3:\n",
        "\n",
        "    print (\"Counting!\" * a)\n",
        "    #a += 1"
      ],
      "metadata": {
        "id": "07YbiCGO4O1w"
      },
      "execution_count": null,
      "outputs": []
    },
    {
      "cell_type": "markdown",
      "source": [
        "# **<font color=blue>P11.</font>** ```for``` loops – looping over lists"
      ],
      "metadata": {
        "id": "R5_dYi9f6t1z"
      }
    },
    {
      "cell_type": "markdown",
      "source": [
        "####**TASK P11.1** Create a for loop to print each item in a list\n"
      ],
      "metadata": {
        "id": "x9F7v_V073wO"
      }
    },
    {
      "cell_type": "code",
      "source": [
        "names = [\"Alice\",\"Bob\",\"Charley\"]\n",
        "\n",
        "for name in names:\n",
        "    print (\"Hello\", name)"
      ],
      "metadata": {
        "id": "-aqaQ5hz70yo"
      },
      "execution_count": null,
      "outputs": []
    },
    {
      "cell_type": "markdown",
      "source": [
        "# **<font color=blue>P12.</font>** ```for``` loops over a ```range()```of numbers"
      ],
      "metadata": {
        "id": "LdtXZ0LW9ugo"
      }
    },
    {
      "cell_type": "markdown",
      "source": [
        "####**TASK 12.1** Using for and range(), create code that prints the numbers 0-9"
      ],
      "metadata": {
        "id": "jG6jvXEBDi4H"
      }
    },
    {
      "cell_type": "code",
      "source": [
        "# Create a variable to define the  number of iterations\n",
        "iterations = 10\n",
        "\n",
        "#Print the current item's value each time through the loop\n",
        "for number in range(iterations):\n",
        "    print (number)"
      ],
      "metadata": {
        "colab": {
          "base_uri": "https://localhost:8080/"
        },
        "id": "RFBXqQNu_E6X",
        "outputId": "17ea3665-5605-49cb-8207-56ae8b5b34ee"
      },
      "execution_count": null,
      "outputs": [
        {
          "output_type": "stream",
          "name": "stdout",
          "text": [
            "0\n",
            "1\n",
            "2\n",
            "3\n",
            "4\n",
            "5\n",
            "6\n",
            "7\n",
            "8\n",
            "9\n"
          ]
        }
      ]
    },
    {
      "cell_type": "markdown",
      "source": [
        "####**TASK 12.2** Modify the code so that it only prints every 3rd number from 9 through 27 (i.e. including 27)"
      ],
      "metadata": {
        "id": "NRd5srR_G-PQ"
      }
    },
    {
      "cell_type": "code",
      "source": [],
      "metadata": {
        "id": "irYTFPO-IRHo"
      },
      "execution_count": null,
      "outputs": []
    },
    {
      "cell_type": "markdown",
      "source": [
        "####**TASK 12.3** <font color = orange> **Complete Rosalind Problem #3 Conditions and Loops** </font>"
      ],
      "metadata": {
        "id": "83jDEjpMHXUa"
      }
    },
    {
      "cell_type": "code",
      "source": [
        "# Enter code for Rosalind 3 here:\n",
        "# Input\n",
        "a, b = 4273, 8650\n",
        "\n",
        "# Calculate the sum of all odd integers between a and b inclusive\n",
        "total = sum(i for i in range(a, b + 1) if i % 2 != 0)\n",
        "\n",
        "# Output\n",
        "print(total)"
      ],
      "metadata": {
        "id": "EI7hRtakG90R",
        "outputId": "9cc703f6-b307-4820-8e8b-298fedd1e18f",
        "colab": {
          "base_uri": "https://localhost:8080/"
        }
      },
      "execution_count": 4,
      "outputs": [
        {
          "output_type": "stream",
          "name": "stdout",
          "text": [
            "14143129\n"
          ]
        }
      ]
    },
    {
      "cell_type": "markdown",
      "source": [
        "####**<font color=crimson>TASK 12.4 Commit to GitHub**</font>"
      ],
      "metadata": {
        "id": "3P9DKNbPI1wp"
      }
    },
    {
      "cell_type": "markdown",
      "source": [
        "# **<font color=blue>P13.</font>** File I/O – with open(\"filename\", \"mode\") as filehandle:\n"
      ],
      "metadata": {
        "id": "i4Fo-ddSKWwy"
      }
    },
    {
      "cell_type": "markdown",
      "source": [
        "####**TASK P13.1** Use the ```read()``` function to print the <font color = orange>practice dataset from Rosalind #4</font>\n"
      ],
      "metadata": {
        "id": "sgc3wiQmLXcI"
      }
    },
    {
      "cell_type": "code",
      "source": [
        "with open(\"practice.txt\",\"r\") as data:\n",
        "\n",
        "    print(data.read())\n",
        "\n",
        "    #print(data.readline())\n",
        "\n",
        "    #print(data.readlines())"
      ],
      "metadata": {
        "id": "V5nzHsnULA_n"
      },
      "execution_count": null,
      "outputs": []
    },
    {
      "cell_type": "markdown",
      "source": [
        "####**TASK P13.2** Explore file object functions to read and print practice.txt"
      ],
      "metadata": {
        "id": "GLO6tBYNVzYZ"
      }
    },
    {
      "cell_type": "markdown",
      "source": [
        "#<font color=blue>**P14.**</font> Store the content, close the file, and join ( ) the list"
      ],
      "metadata": {
        "id": "iupO8iI-ZYAe"
      }
    },
    {
      "cell_type": "code",
      "source": [
        "with open(\"practice.txt\",\"r\") as data:\n",
        "\n",
        "  list_of_lines=data.readlines()\n",
        "\n",
        "print (list_of_lines)"
      ],
      "metadata": {
        "id": "8U5w2qOudDyp"
      },
      "execution_count": null,
      "outputs": []
    },
    {
      "cell_type": "markdown",
      "source": [
        "####**TASK P14.1** Read practice.txt into a list of lines. Then, after the file is closed, use the join ( ) function to print the contents so it looks like the original input."
      ],
      "metadata": {
        "id": "5pPhGmQYiiKx"
      }
    },
    {
      "cell_type": "code",
      "source": [
        "print (\"_\".join())"
      ],
      "metadata": {
        "id": "XLvFZ9uSeyYH"
      },
      "execution_count": null,
      "outputs": []
    },
    {
      "cell_type": "markdown",
      "source": [
        "#<font color=blue>**P15.**</font> Combining for loops with file objects"
      ],
      "metadata": {
        "id": "lY924yM0jckW"
      }
    },
    {
      "cell_type": "markdown",
      "source": [
        "####**TASK P15.1** Use a for loop to print each line in practice.txt"
      ],
      "metadata": {
        "id": "NvqGEl4JjpiO"
      }
    },
    {
      "cell_type": "code",
      "source": [
        "with open(\"practice.txt\",\"r\") as data:\n",
        "\n",
        "  for line in data:\n",
        "    print (line)"
      ],
      "metadata": {
        "id": "snY-10pUkMby"
      },
      "execution_count": null,
      "outputs": []
    },
    {
      "cell_type": "markdown",
      "source": [
        "####**TASK P15.2** <font color=orange>**Complete Rosalind Problem #4 Working with Files**</font>\n"
      ],
      "metadata": {
        "id": "DHzE7CI4lWGw"
      }
    },
    {
      "cell_type": "code",
      "source": [
        "# Input text\n",
        "text = \"\"\"`Twas brillig, and the slithy toves\n",
        "Some things in life are bad, they can really make you mad\n",
        "  Did gyre and gimble in the wabe:\n",
        "Other things just make you swear and curse\n",
        "All mimsy were the borogoves,\n",
        "When you're chewing on life's gristle, don't grumble give a whistle\n",
        "  And the mome raths outgrabe.\n",
        "This will help things turn out for the best\n",
        "\"Beware the Jabberwock, my son!\n",
        "Always look on the bright side of life\n",
        "  The jaws that bite, the claws that catch!\n",
        "Always look on the right side of life\n",
        "Beware the Jubjub bird, and shun\n",
        "If life seems jolly rotten, there's something you've forgotten\n",
        "  The frumious Bandersnatch!\"\n",
        "And that's to laugh and smile and dance and sing\n",
        "He took his vorpal sword in hand:\n",
        "When you're feeling in the dumps, don't be silly, chumps\n",
        "  Long time the manxome foe he sought --\n",
        "Just purse your lips and whistle, that's the thing\n",
        "So rested he by the Tumtum tree,\n",
        "So, always look on the bright side of death\n",
        "  And stood awhile in thought.\n",
        "Just before you draw your terminal breath\n",
        "And, as in uffish thought he stood,\n",
        "Life's a counterfeit and when you look at it\n",
        "  The Jabberwock, with eyes of flame,\n",
        "Life's a laugh and death's the joke, it's true\n",
        "Came whiffling through the tulgey wood,\n",
        "You see, it's all a show, keep them laughing as you go\n",
        "  And burbled as it came!\n",
        "Just remember the last laugh is on you\n",
        "One, two! One, two! And through and through\n",
        "Always look on the bright side of life\n",
        "  The vorpal blade went snicker-snack!\n",
        "And always look on the right side of life\n",
        "He left it dead, and with its head\n",
        "Always look on the bright side of life\n",
        "  He went galumphing back.\n",
        "And always look on the right side of life\n",
        "\"\"\"\n",
        "\n",
        "# Split text into lines\n",
        "lines = text.splitlines()\n",
        "\n",
        "# Get even-numbered lines (1-based indexing)\n",
        "even_lines = [lines[i] for i in range(len(lines)) if (i + 1) % 2 == 0]\n",
        "\n",
        "# Print the result\n",
        "for line in even_lines:\n",
        "    print(line)"
      ],
      "metadata": {
        "id": "8QR9dRFtltBN",
        "outputId": "9f89fda4-e972-4e46-c25f-75599f976206",
        "colab": {
          "base_uri": "https://localhost:8080/"
        }
      },
      "execution_count": 6,
      "outputs": [
        {
          "output_type": "stream",
          "name": "stdout",
          "text": [
            "Some things in life are bad, they can really make you mad\n",
            "Other things just make you swear and curse\n",
            "When you're chewing on life's gristle, don't grumble give a whistle\n",
            "This will help things turn out for the best\n",
            "Always look on the bright side of life\n",
            "Always look on the right side of life\n",
            "If life seems jolly rotten, there's something you've forgotten\n",
            "And that's to laugh and smile and dance and sing\n",
            "When you're feeling in the dumps, don't be silly, chumps\n",
            "Just purse your lips and whistle, that's the thing\n",
            "So, always look on the bright side of death\n",
            "Just before you draw your terminal breath\n",
            "Life's a counterfeit and when you look at it\n",
            "Life's a laugh and death's the joke, it's true\n",
            "You see, it's all a show, keep them laughing as you go\n",
            "Just remember the last laugh is on you\n",
            "Always look on the bright side of life\n",
            "And always look on the right side of life\n",
            "Always look on the bright side of life\n",
            "And always look on the right side of life\n"
          ]
        }
      ]
    },
    {
      "cell_type": "markdown",
      "source": [
        "####**<font color=crimson>TASK 15.4 Commit to GitHub**</font>"
      ],
      "metadata": {
        "id": "GJ_acW4WlwDn"
      }
    },
    {
      "cell_type": "markdown",
      "source": [
        "#<font color=blue>**P16.**</font> ```for word in line.split()``` – looping over strings and splitting by any delimiter"
      ],
      "metadata": {
        "id": "WD5wnvQkmh6E"
      }
    },
    {
      "cell_type": "markdown",
      "source": [
        "####**TASK P16.1** Print each word in the ROSALIND Problem #5 Sample Dataset on a separate line.\n"
      ],
      "metadata": {
        "id": "kApNvgOLn8lp"
      }
    },
    {
      "cell_type": "code",
      "source": [
        "with open(\"practice_5.txt\",\"r\") as data:\n",
        "\n",
        "  line=data.read()\n",
        "\n",
        "for word in line.split():\n",
        "    print (word)"
      ],
      "metadata": {
        "colab": {
          "base_uri": "https://localhost:8080/"
        },
        "id": "PBjyhwclpKoM",
        "outputId": "afb464a8-3407-43ec-e091-5e57dd22b646"
      },
      "execution_count": null,
      "outputs": [
        {
          "output_type": "stream",
          "name": "stdout",
          "text": [
            "We\n",
            "tried\n",
            "list\n",
            "and\n",
            "we\n",
            "tried\n",
            "dicts\n",
            "also\n",
            "we\n",
            "tried\n",
            "Zen\n"
          ]
        }
      ]
    },
    {
      "cell_type": "markdown",
      "source": [
        "#<font color=blue>**P17.**</font> Python Dictionaries { }"
      ],
      "metadata": {
        "id": "kq9QbEttnA4h"
      }
    },
    {
      "cell_type": "markdown",
      "source": [
        "####**TASK 17.1** Create and print your first dictionary"
      ],
      "metadata": {
        "id": "lVudFQkZqJgh"
      }
    },
    {
      "cell_type": "code",
      "source": [
        "sequences = {\n",
        "    \"H.neandertalensis\":\"ACGTCGCTCTGCTA\",\n",
        "    \"H.sapiens\":\"ACGTCACTCTGCTA\"\n",
        "    }\n",
        "\n",
        "print (sequences)"
      ],
      "metadata": {
        "colab": {
          "base_uri": "https://localhost:8080/"
        },
        "id": "IzKFWDlgq6zo",
        "outputId": "277f028f-8e65-45c4-8e82-63619ebf7970"
      },
      "execution_count": 7,
      "outputs": [
        {
          "output_type": "stream",
          "name": "stdout",
          "text": [
            "{'H.neandertalensis': 'ACGTCGCTCTGCTA', 'H.sapiens': 'ACGTCACTCTGCTA'}\n"
          ]
        }
      ]
    },
    {
      "cell_type": "markdown",
      "source": [
        "#<font color=blue>**P18.**</font> Manipulating and printing dictionaries"
      ],
      "metadata": {
        "id": "OvqoT6UwnK0g"
      }
    },
    {
      "cell_type": "markdown",
      "source": [
        "####**TASK 18.1** Modify line 8 to create a fasta file of the hominid sequences"
      ],
      "metadata": {
        "id": "5Be2tcQRrjso"
      }
    },
    {
      "cell_type": "code",
      "source": [
        "sequences[\"P.troglodytes\"]=\"ACGTCACTCTCCTA\"\n",
        "\n",
        "sequences.update({\"G.gorilla\":\"ACGTCCTCCTA\", \"H.erectus\":\"ACGTCACTCTGCTA\"})\n",
        "\n",
        "print (sequences[\"H.sapiens\"])\n",
        "\n",
        "for key,value in sequences.items():\n",
        "     print (key,value)"
      ],
      "metadata": {
        "colab": {
          "base_uri": "https://localhost:8080/"
        },
        "id": "b-2XDof4rtP8",
        "outputId": "1e998098-f26e-4df1-fd79-38816a84ee15"
      },
      "execution_count": null,
      "outputs": [
        {
          "output_type": "stream",
          "name": "stdout",
          "text": [
            "ACGTCACTCTGCTA\n",
            "H.neandertalensis ACGTCGCTCTGCTA\n",
            "H.sapiens ACGTCACTCTGCTA\n",
            "P.troglodytes ACGTCACTCTCCTA\n",
            "G.gorilla ACGTCCTCCTA\n",
            "H.erectus ACGTCACTCTGCTA\n"
          ]
        }
      ]
    },
    {
      "cell_type": "markdown",
      "source": [
        "####**TASK P18.2** <font color= orange>**Complete Rosalind Problem #5  Dictionaries**</font>"
      ],
      "metadata": {
        "id": "Y98OZYUNvmWD"
      }
    },
    {
      "cell_type": "code",
      "source": [
        "# Input string\n",
        "s = \"When I find myself in times of trouble Mother Mary comes to me Speaking words of wisdom let it be And in my hour of darkness she is standing right in front of me Speaking words of wisdom let it be Let it be let it be let it be let it be Whisper words of wisdom let it be And when the broken hearted people living in the world agree There will be an answer let it be For though they may be parted there is still a chance that they will see There will be an answer let it be Let it be let it be let it be let it be There will be an answer let it be Let it be let it be let it be let it be Whisper words of wisdom let it be Let it be let it be let it be let it be Whisper words of wisdom let it be And when the night is cloudy there is still a light that shines on me Shine until tomorrow let it be I wake up to the sound of music Mother Mary comes to me Speaking words of wisdom let it be Let it be let it be let it be yeah let it be There will be an answer let it be Let it be let it be let it be yeah let it be Whisper words of wisdom let it be\"\n",
        "\n",
        "# Split string into words\n",
        "words = s.split()\n",
        "\n",
        "# Create a dictionary to store word counts\n",
        "word_count = {}\n",
        "\n",
        "# Count occurrences\n",
        "for word in words:\n",
        "    word_count[word] = word_count.get(word, 0) + 1\n",
        "\n",
        "# Print result\n",
        "for word, count in word_count.items():\n",
        "    print(word, count)"
      ],
      "metadata": {
        "id": "lD3KoTY9wWa7",
        "outputId": "576904a2-af09-4505-dabc-86613d825637",
        "colab": {
          "base_uri": "https://localhost:8080/"
        }
      },
      "execution_count": 8,
      "outputs": [
        {
          "output_type": "stream",
          "name": "stdout",
          "text": [
            "When 1\n",
            "I 2\n",
            "find 1\n",
            "myself 1\n",
            "in 4\n",
            "times 1\n",
            "of 11\n",
            "trouble 1\n",
            "Mother 2\n",
            "Mary 2\n",
            "comes 2\n",
            "to 3\n",
            "me 4\n",
            "Speaking 3\n",
            "words 7\n",
            "wisdom 7\n",
            "let 30\n",
            "it 36\n",
            "be 41\n",
            "And 3\n",
            "my 1\n",
            "hour 1\n",
            "darkness 1\n",
            "she 1\n",
            "is 4\n",
            "standing 1\n",
            "right 1\n",
            "front 1\n",
            "Let 6\n",
            "Whisper 4\n",
            "when 2\n",
            "the 4\n",
            "broken 1\n",
            "hearted 1\n",
            "people 1\n",
            "living 1\n",
            "world 1\n",
            "agree 1\n",
            "There 4\n",
            "will 5\n",
            "an 4\n",
            "answer 4\n",
            "For 1\n",
            "though 1\n",
            "they 2\n",
            "may 1\n",
            "parted 1\n",
            "there 2\n",
            "still 2\n",
            "a 2\n",
            "chance 1\n",
            "that 2\n",
            "see 1\n",
            "night 1\n",
            "cloudy 1\n",
            "light 1\n",
            "shines 1\n",
            "on 1\n",
            "Shine 1\n",
            "until 1\n",
            "tomorrow 1\n",
            "wake 1\n",
            "up 1\n",
            "sound 1\n",
            "music 1\n",
            "yeah 2\n"
          ]
        }
      ]
    },
    {
      "cell_type": "markdown",
      "source": [
        "####**<font color=crimson>TASK 18.3 Commit to GitHub**</font>"
      ],
      "metadata": {
        "id": "1dJdfy4bwVO4"
      }
    },
    {
      "cell_type": "markdown",
      "source": [
        "#<font color=blue>**P19.**</font> ```count()``` – counting things made easy"
      ],
      "metadata": {
        "id": "28ygQlYJnZoA"
      }
    },
    {
      "cell_type": "markdown",
      "source": [
        "####**TASK P19.1** <font color= orange>**Complete Rosalind Problem #6  Counting DNA Nucleotides**</font>"
      ],
      "metadata": {
        "id": "CZ9tBWDmw4D-"
      }
    },
    {
      "cell_type": "code",
      "source": [
        "# Input DNA string\n",
        "s = \"CGTGATCACAATCTAGTGTTACGTGTTGGAGCCGATACCTCTATCTATACGGCCATACTCCTATGCCTCTCAAAGATCGAAAGTTTGGAAGCTACGACCGTTCCAAGCGGTATCGCTATTAGATCCAAGGGCTCAGCTCACAGCACGAGATGTACGAGTTCAAACGCACGGGCAGGTGGAGAAGAGGAACTTTGCGAGGTCTACTCCTGGTCCTGTCGCTACCCGGTATCTACCCCTTTTCACGAGGGTATTCCCACTTGGGAAGGGTGGTAGGGGGCTAGTACGAGTTGTCGGAGTTTACATTTAGGGCCCCGGTTAACACTACCGAGCCCCATCGATGCTGTTCTAGAGGACAATCTTGCATACCCGTGTGATAAACGGTATAATAGGAAAATTACCAAGTATGGAGTCAGTCTCGGGTGTTCAGTACTTCGCTGAGTAAGAAGCGGTCTATTTGATATTGTATGTAAGCTTGCTCGAACTTTTACGTTTCTGTGGGTCATCTAGTCCCCATCGCACCGTCCCCGTGCTCCTTCTGGTGTTTTGGTTCCATTGGTGTAGGGCAGATCGTGGAGAGTAAATCGAACCCTACCGCAATGAGAAATCACTTATAGCGGTCTTAGCGCAGTGGTAGTATAAGGAAACATCCGGACGGACGGGCATGAGAACGAGCCGAGCGAGGGAAACTGCGGCAGTTACCTGAGGACGGGTTTCTCCAGGGAAATAAGTGATGAACTTCCTCTTGTTCGCCACACTAAGCTGATGCCATCTGAGGCAGCACTGTATAGTCCGAGCCTAGAGAGTCTAGAAGAGGTTGATGTCAAATTGAGCTTACTTTAGCAGACTCCAACGACTTGATATAACAA\"\n",
        "\n",
        "# Count occurrences of each nucleotide\n",
        "a = s.count('A')\n",
        "c = s.count('C')\n",
        "g = s.count('G')\n",
        "t = s.count('T')\n",
        "\n",
        "# Print counts separated by spaces\n",
        "print(a, c, g, t)"
      ],
      "metadata": {
        "id": "GlwS14zGxBIC",
        "outputId": "ca756199-7fa3-4550-ddba-c3dbeb7247f5",
        "colab": {
          "base_uri": "https://localhost:8080/"
        }
      },
      "execution_count": 11,
      "outputs": [
        {
          "output_type": "stream",
          "name": "stdout",
          "text": [
            "217 198 229 222\n"
          ]
        }
      ]
    },
    {
      "cell_type": "markdown",
      "source": [
        "####**TASK P19.2** Modify your code for the Rosalind #5 Dictionary problem so that it uses count( ) to count the words."
      ],
      "metadata": {
        "id": "rj-OWB6Jym5y"
      }
    },
    {
      "cell_type": "code",
      "source": [],
      "metadata": {
        "id": "9H_S6jLnzfxR"
      },
      "execution_count": null,
      "outputs": []
    },
    {
      "cell_type": "markdown",
      "source": [
        "####**<font color=crimson>TASK 19.3 Commit to GitHub**</font>\n"
      ],
      "metadata": {
        "id": "RzMon_wAzg7D"
      }
    },
    {
      "cell_type": "markdown",
      "source": [
        "#<font color=blue>**P20.**</font> Installing biopython"
      ],
      "metadata": {
        "id": "-IB0c2gG0Z1O"
      }
    },
    {
      "cell_type": "code",
      "source": [
        "!pip install biopython"
      ],
      "metadata": {
        "colab": {
          "base_uri": "https://localhost:8080/"
        },
        "id": "pinPQdEn0mJM",
        "outputId": "87a0b9ae-2c9d-447f-8eca-d9020b2b713a"
      },
      "execution_count": null,
      "outputs": [
        {
          "output_type": "stream",
          "name": "stdout",
          "text": [
            "Collecting biopython\n",
            "  Downloading biopython-1.85-cp312-cp312-manylinux_2_17_x86_64.manylinux2014_x86_64.whl.metadata (13 kB)\n",
            "Requirement already satisfied: numpy in /usr/local/lib/python3.12/dist-packages (from biopython) (2.0.2)\n",
            "Downloading biopython-1.85-cp312-cp312-manylinux_2_17_x86_64.manylinux2014_x86_64.whl (3.3 MB)\n",
            "\u001b[2K   \u001b[90m━━━━━━━━━━━━━━━━━━━━━━━━━━━━━━━━━━━━━━━━\u001b[0m \u001b[32m3.3/3.3 MB\u001b[0m \u001b[31m36.0 MB/s\u001b[0m eta \u001b[36m0:00:00\u001b[0m\n",
            "\u001b[?25hInstalling collected packages: biopython\n",
            "Successfully installed biopython-1.85\n"
          ]
        }
      ]
    },
    {
      "cell_type": "code",
      "metadata": {
        "colab": {
          "base_uri": "https://localhost:8080/"
        },
        "id": "5ccd6f0b",
        "outputId": "e0650d46-1501-47ef-e6c0-98c374646574"
      },
      "source": [
        "try:\n",
        "  from Bio.Seq import Seq\n",
        "  print(\"Biopython is installed correctly.\")\n",
        "except ImportError:\n",
        "  print(\"Biopython is not installed or there was an import error.\")"
      ],
      "execution_count": null,
      "outputs": [
        {
          "output_type": "stream",
          "name": "stdout",
          "text": [
            "Biopython is installed correctly.\n"
          ]
        }
      ]
    },
    {
      "cell_type": "markdown",
      "source": [
        "#<font color=blue>**P21.**</font> Seq( ) – a function to define sequence objects"
      ],
      "metadata": {
        "id": "IGX-ThdQ3RuA"
      }
    },
    {
      "cell_type": "code",
      "source": [
        "from Bio.Seq import Seq\n",
        "\n",
        "my_sequence = Seq(\"GATGGAACTTGACTACGTAAATT\")"
      ],
      "metadata": {
        "id": "ltZBr8mE4OhM"
      },
      "execution_count": null,
      "outputs": []
    },
    {
      "cell_type": "markdown",
      "source": [
        "####**TASK BP21.2** <font color=orange> **Complete Rosalind #7 Transcribing DNA into RNA**</font>"
      ],
      "metadata": {
        "id": "UXCuEFxg6Jxx"
      }
    },
    {
      "cell_type": "code",
      "source": [
        "# Input DNA string\n",
        "t = \"ATCCCCATCGAACGCCTTTCCCGCTGTGGGCCTTTTATGAGTCAATTAACACGCCGGCCTCGCCAGCCTGCCTAGCGTTCTCCGGGTGTATTATATCAAACCCACTGCAGTCGTTGCAGCACTAATGTTTCACTATGGTGTCGCCGCGGCCTCGGACGGGCTGAGGACATGACAACTACTCTTCTAAATTGACCCCTATACGCGCGCCAAACTTGCTTGGGCGTTCCTGCTACATTATGCGTAAATTAGCTCACACGAGTCTGCTCTAGTGATAATATTCGCTAAAGCCGGAGGCTAATGTAGACTGTATCGTAAGTACGCGTATCCCATTAAGGCAACCAATGCCGGCTATGGGTCCTTCATCACCTGGTGGTTACTAAGTGTTTATATACTGCGTATATTTTAGATCCCCCTCTAATCAGTAGTATTATGGTGGACTGAAACCATTATCACAGCTCCCACTTTATTACATAGCACGCGTGGAGGAATTGATGCTCCAACTATATGGCATCCCAATTTGAAGAAGACGAATATATGTATAACAGTTCTGTCTCTATCGGCGTAGCTGCATACGGTCACTTGCCCTGGTATGTTTAGGACTTTTATGCAGTATCTAATACTGCGGTCTGCGACTCCGAAATGAGACGTCTGGTGAGCACGAACTGTTGAATGCTGAGTCGGGGACCAGCTTTAAACCACCGAGTTGCAGGGTATGATTTTATTAAGCTGGCTCAGATTCTCTAAGCACGGCTGCCCTCATTGTGCCAACGTAAACAAGACTAACCCAGGCCAAATGGATCACGTGGCCCGCCCTCTTAATATTCTTACGTCTTTCTGCAATAACTACGTTAACAATGTTTATCTCCGCATGAAAAGTATAAGATCGCTTGTACAATCCCTTTGACTTGTCAGCATATTTGTGACCTGCAAGACTTATGGGTGCATGCACAATGAGC\"\n",
        "\n",
        "# Replace 'T' with 'U' to get RNA string\n",
        "u = t.replace('T', 'U')\n",
        "\n",
        "# Output the RNA string\n",
        "print(u)"
      ],
      "metadata": {
        "id": "UXt6gWLM6qde",
        "outputId": "e16b3ae6-ce9e-45a3-e231-675d6a65d0cd",
        "colab": {
          "base_uri": "https://localhost:8080/"
        }
      },
      "execution_count": 13,
      "outputs": [
        {
          "output_type": "stream",
          "name": "stdout",
          "text": [
            "AUCCCCAUCGAACGCCUUUCCCGCUGUGGGCCUUUUAUGAGUCAAUUAACACGCCGGCCUCGCCAGCCUGCCUAGCGUUCUCCGGGUGUAUUAUAUCAAACCCACUGCAGUCGUUGCAGCACUAAUGUUUCACUAUGGUGUCGCCGCGGCCUCGGACGGGCUGAGGACAUGACAACUACUCUUCUAAAUUGACCCCUAUACGCGCGCCAAACUUGCUUGGGCGUUCCUGCUACAUUAUGCGUAAAUUAGCUCACACGAGUCUGCUCUAGUGAUAAUAUUCGCUAAAGCCGGAGGCUAAUGUAGACUGUAUCGUAAGUACGCGUAUCCCAUUAAGGCAACCAAUGCCGGCUAUGGGUCCUUCAUCACCUGGUGGUUACUAAGUGUUUAUAUACUGCGUAUAUUUUAGAUCCCCCUCUAAUCAGUAGUAUUAUGGUGGACUGAAACCAUUAUCACAGCUCCCACUUUAUUACAUAGCACGCGUGGAGGAAUUGAUGCUCCAACUAUAUGGCAUCCCAAUUUGAAGAAGACGAAUAUAUGUAUAACAGUUCUGUCUCUAUCGGCGUAGCUGCAUACGGUCACUUGCCCUGGUAUGUUUAGGACUUUUAUGCAGUAUCUAAUACUGCGGUCUGCGACUCCGAAAUGAGACGUCUGGUGAGCACGAACUGUUGAAUGCUGAGUCGGGGACCAGCUUUAAACCACCGAGUUGCAGGGUAUGAUUUUAUUAAGCUGGCUCAGAUUCUCUAAGCACGGCUGCCCUCAUUGUGCCAACGUAAACAAGACUAACCCAGGCCAAAUGGAUCACGUGGCCCGCCCUCUUAAUAUUCUUACGUCUUUCUGCAAUAACUACGUUAACAAUGUUUAUCUCCGCAUGAAAAGUAUAAGAUCGCUUGUACAAUCCCUUUGACUUGUCAGCAUAUUUGUGACCUGCAAGACUUAUGGGUGCAUGCACAAUGAGC\n"
          ]
        }
      ]
    },
    {
      "cell_type": "markdown",
      "source": [
        "####**TASK BP21.2** <font color=orange> **Complete Rosalind #8  Translating RNA into Protein**</font>"
      ],
      "metadata": {
        "id": "9P4_MaXp6O3n"
      }
    },
    {
      "cell_type": "code",
      "source": [
        "# RNA codon table\n",
        "codon_table = {\n",
        "    'UUU':'F', 'UUC':'F', 'UUA':'L', 'UUG':'L',\n",
        "    'UCU':'S', 'UCC':'S', 'UCA':'S', 'UCG':'S',\n",
        "    'UAU':'Y', 'UAC':'Y', 'UAA':'Stop', 'UAG':'Stop',\n",
        "    'UGU':'C', 'UGC':'C', 'UGA':'Stop', 'UGG':'W',\n",
        "    'CUU':'L', 'CUC':'L', 'CUA':'L', 'CUG':'L',\n",
        "    'CCU':'P', 'CCC':'P', 'CCA':'P', 'CCG':'P',\n",
        "    'CAU':'H', 'CAC':'H', 'CAA':'Q', 'CAG':'Q',\n",
        "    'CGU':'R', 'CGC':'R', 'CGA':'R', 'CGG':'R',\n",
        "    'AUU':'I', 'AUC':'I', 'AUA':'I', 'AUG':'M',\n",
        "    'ACU':'T', 'ACC':'T', 'ACA':'T', 'ACG':'T',\n",
        "    'AAU':'N', 'AAC':'N', 'AAA':'K', 'AAG':'K',\n",
        "    'AGU':'S', 'AGC':'S', 'AGA':'R', 'AGG':'R',\n",
        "    'GUU':'V', 'GUC':'V', 'GUA':'V', 'GUG':'V',\n",
        "    'GCU':'A', 'GCC':'A', 'GCA':'A', 'GCG':'A',\n",
        "    'GAU':'D', 'GAC':'D', 'GAA':'E', 'GAG':'E',\n",
        "    'GGU':'G', 'GGC':'G', 'GGA':'G', 'GGG':'G'\n",
        "}\n",
        "\n",
        "# Input RNA string\n",
        "s = \"AUGGCAGUUACCAUUCGUCAGGAAGGGCGCUUGACUUUCCUGCGGCCUCUUCCCGGUGCGCCCAUGCUCGUACAAACGAUGAAGGUGGUGAAAGGAGUUUUCACUCGCUUACAAACCACUGGCGAAAGUUUUUCGUGGCCCCACUUGCAGUAUCGCGCAGAAUACUUCAUAUUUCUUUACCCGGCCGGUUGGGUACGCGCUGGGGCUGAUCUUCUGACACUAAAGGCAAGACCAGAGCGGGGAGUCACUCUUAGUUGCCAUCGGUUCCGCCAGUCAGUAUGCUACCACAUGUCUGCGCCGAGACAACGUGUCAAUUUAAUUAGGAGUGUACCAGAGCGCAAGGGCUCCACAAAGGCUCGAUCAAAGGUGCUAAGGACUGCCUUUUCGGUGAAAUGCUCGCCGAAAUCUAGGAUCUUGUAUAGAGACGCACCGCCACACGCGUUAGAAUCGCACCGUGAUCAGCGUUUGGACCGUCUAACAAGAUGGUCAGCCUCUUCUUAUUUGCUAAGUAAGUUCACCCUUAGGGGUUUAGGUUAUAUAGAUAGGGAUGCUAUAAUCGACAUAGUAAACCGCACACAGGUGAGCGGAAGAUACAAGCCUAAUCCAUCUGCGGGCCCAACACACUAUUGGACGUAUUCCUCCGCUCUUCUUUUAAACGUACAACCAAGUUCAGCCGCAAAGUUGUCCCCGAAAGUCGGUAUCUGUAAGACUCGGGUUCCUAAUCCGGUUCACUUAGCUUGGCUUCAGACCAAAGGUCUGAGUCCUGUAGUGCAUCUAUGGAUCUAUUUCCAACUUUACUCUGAGGUAUCAUUCAUAAGUCGCUCCCAUCUAAAUACUGUAACAGGACUGCGCAGUGUGACAUAUAUCUGGGGCUGUCCAGAUCCGGAAGUGCUCGCAUCCAUCCGAGAAUACAUGCGGGGUGCAAUUCAGGGUGUGUGGGAGCGCAGGCACGCCGUCUCGCACUACCUGGGUGACUUCGUUUACCACGCCGUGGCUCUUUAUCCGGGUACCGAUGGCUCUCAUGAUCAAAAGCACUCCGAUGAAGUGGAGGGGUCCCGGGACGGUUUGCCUGGGUGUCUGCGUAGGCCUAAAUUGAAGCCUUGCUUACGAGCCGACUCCGAAAAUUGGGCUGGCACAGGAUACGCGCCAUCCGGUCAGUCAGGACAGUGGCGUAAGUUCAGCUGGUCAGCUCCUGAUAUACGAAGAUACGCCGGAUCAACAACAUCGGGUAAUGUUCCGUCCAACACUGCGAGAGGGAAGAACUGCCCUCCGACACAUGAAAGAAGUAAGUUUGCGGGGAACACGGAGCCUGUGGUGGGGGCAUUGGUGGGCUACUCUGAGUGGCAAGCAUCCGCGGUAAGACGAGAGCUCUUAGCACUCUACAGCUUCGGCGUACGUUGGAGGCGGGUCUGCUACUUGCUGUCUCAUCGGCGUAUCGCAACAUUCUCAUUGGUCCUGCGGAAUUUCGAUGACACUUACCUAGCAGCGAACUUUAUCGCAUCUAGUGUCAAACAGCUAGUGGGAAGAACAGCCGCACCAGCUUGGGCCGCAAAUCUGCUAUUUGCCCUGUUUCAUCCCAGAUCCCUUGAGCAGUGGUGCGGCUUGAACAGGAAGCGUAGACUCAGGAAGCCUACACCUGUCCAGUGUGACGGUAGUCUCCUCAGAAAUACCUUGGAUCGACGCAGGAAAACUUUUGCCACCGCGCGGAUCCCCCUACGAAGACAUGGCAAACGUGUAAAAUUAUCGACGUUGUUUUUCACAAGGGUUGAUUAUGGUUAUCUUAGGGACAAACGUCCAUCCCCGCAGGUAAUUGUGGGCCCACAAUGGCCUCAGCCAAGGGUAGACGCUAUAGUUCUUUUAUACGAAGUGCACAUAACAAACCCAUCCCCUGGUGUUUAUUGGGUCCUAGGGAGGGACCUGGAUAGGCCGGCAUGCCAUAUUGCGAACCCGGAGACCAAGAAGAUUUACGGAGUAAAGGUGCAGGGAGCCUCCGAUUACGACUUACUCCUGGUGGGGCUACUGAGCAUGCUACAUGCACACCUAGGACCGUGCGGCGGCUUGGUCGGCUUGGCUGAUCGUCUCCGUCUUGUAGUACGGCUAGUCAACGUUACUUAUAGCCAGCAUCGUUCUUGUACAACAGGACUGCCGCGUGGCGGCCCUCUUGACGGGCCCUCAGUCAGGCCGUUGUACGUGUACUCUGUAAACGUCCGUUCACUGCCUUAUUAUUUUCGCCCCUCAUGGACAUCUUGCACCGCUAAUUUACAUGUAAUUGGAGAUACGUGGUCUGUUUCGGAUUGCACCAGCCAGUUAAAAGAGGGCUUGGUUCUUCCCAUCCAGCGAGCAAUAAUCUGGGCAUAUAUACAGAUCCCGCUCCUAUAUACUUUGAAAAGUCGAAAACGCGGGGGGGAGUCGUGGUCUCUGCCUUCUCCCGGUCUUCUGGCAUUUCCCCCUCAGCCUUUAGAGUCAAUUAUUUAUAAGCACACCUUGAUCCAAUUGGGGCUCGAGAGGUUUAGGUGUAUAUUCACAGAUCUUACACUACACUUGAAAAAACGAUUCACAUUAAUUCGUCUACGUCAGUCGCUCGGGAAAGGUGUUCACACUCAGCAAUUAGAGUUGCACUACCUCCAGGCGGCGUUGGGCAGGAAUGUUAACCGAUUGCGAGUGAGAGUUCCCCGCGAAAUCGCGUCACGCUCGCAUAGGCCUAACAAAUUCUAUUGUCUCAGAUUCCACGAUCUCGAUACAUUUCCGACCGCGCAAGCUAAAAUUGGACAUGCUUUAGAGUUCGUUGGUUCUCCCGUAAUGAAUACCGGUCACGACGUAAUCCAAUCUUAUAUCUAUGCCUACCAGCAACUUUGGCCCCCUAAGGGUCCCCCCUUGGCGAGAGUAUCCAGAAUUCGAUCCCGUUGUCAAUCAGAUGAUCCAAACCAAUUAAAUCGCAGAAUUUAUACUGAAGGCUUAUGCGCGACCCCCGGCCGGGCUUCCUGUCAUAUUGCCCUGGCAGAAUGGGCCUCACCAAGAUGCUGCGAGGCAUGCCGAGUGAUUGGGGUAAUCAGGGUGCGCUGCGACGCAGCGAAGGGUGCAUUUGCUGUAGUAUGCGCUUCUCUAUUGAAGGAUGGAAGUUACUGGGGUCGGCUAACAAUUGCGCUGUCGGGUACUGAAAAAUACGCCGCACACGCAGAUCCGCAGCCCUCCCCCUACAUAGAUGAAAGGCACAGCCCGACAUUGGUCUAUGGUGCUCAACAGCUGUCCGAUCUACGAAUAAUUUGUCUGCUUCAUCUCGUUUGCUAUGUCCUAACUAGCCAUAUAACCUCCGUUCCGCAAGGAACCAGAGUCACCUCUUUUCGUAAUAAGUUUGCAAUUCACACCUACGGUCACCGGAGCCCAGUUUUCCCUAUUUUCAUGUGCUUCGGAUGGAAAAGAUUUGUAAUUGAUUAUCCAAUUGGUCGACGAGCAUUGGCCUGUAUCAUCAGCGAUGGGGUCGGUUGGACGUACAGAAUUGCAGGUGUCUACAUGAUCUCGUCAAGGGGUCUAAUUUCCAUACUAGAGUGGACGUCUCAGCCCGUGGAUCAGGCCAUUGCGUACGUAGCCUUCGCCCCGCGCGUACCACAUCAGAACACUAUCGGAAAGACCAGUACAAAGCACCGAGAAAUGAGCUUGGGGGAGCCCGGGCCCUACUCCCCUACCAAAGUCACCAUUACACCUAGUGUUAAAUCCACUACGGUCAAAGAGAUCUUCCUCCGAUUGUGGGAUGUAAAGGAUGGUCGUGCGCAGACAUUGUGUCGAGAGUCGCUCUCCAGACAUCCAUCCCGGUGGUUGACACCGGUUUCAGCGACACGAUUCGGUGAUAUUGCUAUUAAAUUCUGGGUAUCUAGUCGCCGCGUCCGGAUAAAAAUUAAAAUCGGACAAGGCAGGGCCGGUAAGCAAAGGAGGGAACUGGGUAUACUCAAUCCAUACAUACAUUUCGGCAUCCUCACUACAUGCUGUCAAAGCGCGUCCCGUAAGAGGCACUCUGGCAGUCCACUACUUCUGCCUCUUGUGUUUGAGUCAGUCGUCUUAGAAAGUAGAGCGGUGAGUAAUAUCCUGCUUGUGCAUGCAUUAGCGUGUGAGGUAUUCGGCGAUGGGGAGGGAGGUACUAAUGGGUGUCGCACUUGCUCUGCGAGCAUGCUGGUGAACUCGAGGUCUGGUCCUUCUGGAGUUCGUACUAUGUCGGUUACAGGCACGUCUAGCAUGCUUAACUUGUCGUCACCCCGUGUUACCAUUAGAUCCCGUCUUCGGGUGGAGUUAAAUUGGCUUGUAGUCUUCACGUAUCACUUCUGCUUGGAUGGAGCGAUGUGCACUCAGUAUCACACCACAUCUAGACGACUUCCGCAACGCGUACGCGUGAACAUGAUCGUGAAAGUGAACAAUAUUCAUGCCUACAUACUAUUGAGCGUCCCAUUUCUUACCGGUGAACGAGUAGGGAUCCGAUGCGGGUCAAUCAAUGUAGUUCUUGCGAUCCUAGAGAGUACGUGGGCCAACUCAAGCACACCGUUCGCUCUGCUGGGCACUGGCACUAGAAGGAAAUUCCGUGUGGUUAUGUCUUGCAAACAACCUAGAAAUGCUCCUUCUUCCGUUUCGACCCCAAAUCAAUGUCACAACAUAGCUCUGCGCGUUGAUACUUCAUCCUUGUCCCGCAAGGACAGACAAAUCAUAGUAAGGGUGGUUACGAUGUCCUGGCAAAUAGGAAUACGCUAUUACCGUCAUCAGUCUAGCAAUCGGAUUUUAUUACUGGCAUCUAGUACGGUUUGCCCGUCUCGCCGUAACCUUCGUGAAGAUGUUAUCACCGUAUGCGUGCUUAUAAGUUCGGAAAUUUUCAUACUAGUGAGGGACGCGGUUGGGUUCUGGUGUUUCUCGUCUACAGGAAUUCUUUCUCUUCUGCCCCACGUGGUAACCGCUACGUACGCACAGCUGGGCACCUGCUUGUCUGGGAGAUUCUUGGGGUCGCAGAAGAUCAUGCGACGCUGCAGCCAUGAUGAGCUACGACCUGCACAAGGCCCACCCUGUUUGUAUGGCCCACCAGCGACACGAGUCGGACCGCUUUUUUGGGCACGGCGAGUUUCCAUGACUACGACACAUUCGCUGGGUCCCGGUAUAUGCUGCCCACGCCACUCCUCCAGUGGCUGGUUUAUAGAUAGCUUAGUGAUGGGCCUGUCGGGAUGGUUUACUCGCUUUUUCAGUCUACGCGUGGAUGUGUCUAAGCCUGUUGCCGGACCCCCCGGGGCGAUUGUAUUCAGGCUGCGGAGCCAGACCGUUCUCAAAUUUGCAGCAUUAGUAUGUCACCUAGAGUGCCCGAGCACUCUCCUGUUAAUUGGUGGUCCCAGUCGCCAAGGCAUCUUUUUAUCUGGGAUGGCGUCUAUUUUGCACUGGAGGAUUCCAAAAAGGCCCCGAGCGGAAAUUUCCAAACGGUCGAUCCUUGCUGCCUGCGCCACACAUGGGCAUAUUGCAUUAGGUUGGCUCAGUAGGACGCUACGAAAGUAUUCUUUCAACCGACUCAUAAUGACUCAAUCAACUAACGACUGCGGAUGUCGGGUCACGGGGAUUUUGAACAAAUAUAUUGGAUUCGUGUGUCACGAUACGACCAUGAAUGAAAAGAGGCAUCCGUGUUUGCCCCGUUCUUGGAUAAGACGACUCAGCGUCUCUACCUUGUCCGUCACGGAAAGUACUCAGGGUCAAAUAGGUCACGCGGAGACACUUAUGCGGUGCAUCCCAGUCCUCACUCGUUGUGUGGGCUAUACCUCGAGCACAGCUCACGAUCAGCAUGUAGUUAUAUGUCAGCACCGGUACACAGGGAACCGCCUCCAAUACCCAGUAUUAUUAUUAAUAACAGAUUGCGACGCGAAGGAACUCUCAUCUUCCCCGAAUGGUCACCGAGCCUGUUCAUCCUUGACAGGCAAUGAUCAAAAGUCUCCCUCGUCAGCCUGUUACUCACUAUCUGGACAUAUGUAUACAUACGUUGAUUGUAUGCGCAUACCCGCGAAAUCAUUACUGGUUUUUGCCUCGACCGUUACCGGACCCCGGGUGCAGGUUUUAUUUUGUCAUGUGCUCAAAAGACCAGCUUCCACGAAACGUUGGCGCAUACCAAAGAGGGCCUUUUGGGGUCCCAAUAUCCUGACGCGAUGUGGUCACGGAACGGCGAUGGUACUUUCUUCAUCUCGUAACGCUAUGAUUGGGGUAUUGGUUUGGGACCAGCGCCCGGUUGAAGUCCAGCAUGGUCAACCUAGGCUAGUUCUUACAUGGGAGCAAACUCAUCGGUCGCUGUACGUUCGUUACAUAGGGGAUGAUUGGUCCGACCAUCCUAGCGCCCAACUCGAGCCUUACCCCCUUGAGAACCGUUCUCACACUAGUAUGUACAGUCCGUCAUUUAUACGACUUUCCAACAAGAUCCACGUUGCACGGAAUAUGACGCCUCGCCCCCGAUACAGAUCAAGUAAGUACCGUCGAGAUCAUUGCGAGCGUACCAAUUUACCCACCUUGGUAUUAUACCCCAGGCCGACAAGCACACUAAAAUCAGUAUGGCAAAUCGCGGAAAGUGAAAUUCCCCCGAGACUGUCAUCAUUCACGCAUAAGAGGGAACAUUCGACGCGGACCCUCCCGCCGGGGCAGGGGUCUAGCAUAGGUCCCAAAAACGACAGAAAAGCAAACGAUGGGUUCGAUAGCAGGGACGGACUCUCUCAGCGAACGACUUCGUCGAUGGAGAGCGACCUAGGGUCCAAAUCUCAGUUUCCCUUUACUCACUGCGCGCUACGCCUAUGGCAAACCCGGAUUUGCUUAUGGCACUGUUACAUGCAAAUGACGAGCGUUCAAGCCACGCCUUAUGAUCUCCCGACGACUACGAGAGUUCUACACUUUGUAAUGCAGGGCGGUCAAUUGAGCUUAAGCAUGCCCUUAGGUUUCAAACCAGUUACCGCGGAGAUGGGAAAAUCGUCAUCUGAUAAAGACCAGACUACUAAGCUACUAAGAUAUCCGGUAGGAAAGAAACAAUGGCCCUUAAUUAAUGCGAUUAAACCCGAGCUUUGUUCUACCUGGAGGCACGUUAGUGGUCAUCAUGAGACACACCUGUGUCAUGCCAUCUCGACAUCGGCCAACACGUGUCGGUGCGUCGUCAGGAGCAGGAGCGGGGCGCAUAUUGAGGAGCUUCCCGCUCUCCAGAUACUGUUAUCUAUGGGAUACACUGCUCGGAAAGUGGACAGUCUGAACUGCCCAUUCGAACUGCACUUGGGACUGUCCUUAAUUCAAUCUCUGUGGUCCCUUGUGUGGCAAGAACGAUUCGCGUCAAAACGCGCGGCAUCUGACUCCAAUUCUUGGCUUCGCAGACAACACGGUUUACUCUGUUUAAUCUCUGGCCCACCUUACCUACGGCCUCAUCACCUAUCACUACACACUCACUAUUCUCCUGUUAUGUAUAACCCAGCGCCUGAGGUUGAGAUGAUGUAUGUGCAGACGAUCCGUAAGCCUCGACCCUCGAGACCACCGGGCUUUCCUUUCGCCCCUCCACGGGUAACCGUCGCGCAGCUGCGAAAUUCAAGAAGAAUUGCAGGCAGACGCGGGUACUCGUACGGUACCCGGUACCCACCGCUGAAUGAGGGCGGCGGAUGUUGUAGGCAAUCGUCUCUGCCUUUAAUUAGUUGCGCUUCAUGCCACCUUACCACCCAUGCCCGGGCAUCGCUAUUAUUUUCCGGAGGCCCCCGGAAUGAUGUAAGCCUUCGCGUGUUACACGUGAAGGGUAAGCCUAAGGCCACACGACAAGGACGCAUACAAAGAACCUCGAGAAACGGAUCCACCUGUGAAACGUUGGGUCGAGGACGUAAUUGCGAUGUACGAAAUUCGCGACGCGAAUUAUCUUUGCGACCCGACGUCCCAUCUGGUUAUUCUCUGUCCGGGCCGUACGUGGUAGCAGCGUCGCUUAUUGUCGAAGCGCUUACACCGGUACACCGUCGGCCGGACGUAUUUUUUCGGCCCAAGCUCAUGCAAACCGACCCAAGAAGAAUAAGGCCUGAUAAUGUGUCUGUAUGCAGCCGCUUCAAGAACAAAAUCUUAGAACAACAGCUAUUCGAGAAUGCCCGGCAUUGUAAAAUGUGCCACGCCGUUUCCAACCGUCUAUUCGUCAUUACCUUCCUCGUUAUGAGGUCGGUGCUCUGGUUCCUCUCUAUCCUUUGUUGUAAACCUCGUUAUACUUACCAAUGCCUGAGUACCGCUCGCCAACUUAUGUUUUUCGUCACAUCCUUUAUGAGAGAUCCCGCGACGCUUGUGGGCUUGUCCAUCCUUUACAAAGGUCACCUUUCGACAAGUUAUAGGGGUUGUGUUAUCAGUGAGAAACUGCCAAAGCGCCAGACAGCGUGCCGAUAG\"\n",
        "\n",
        "# Translate RNA to protein\n",
        "protein = \"\"\n",
        "for i in range(0, len(s), 3):\n",
        "    codon = s[i:i+3]\n",
        "    if codon_table[codon] == 'Stop':\n",
        "        break\n",
        "    protein += codon_table[codon]\n",
        "\n",
        "# Output the protein string\n",
        "print(protein)"
      ],
      "metadata": {
        "id": "5Rzzfzij6q2P",
        "outputId": "d837503b-01fc-4896-a627-01ae48e822c7",
        "colab": {
          "base_uri": "https://localhost:8080/"
        }
      },
      "execution_count": 14,
      "outputs": [
        {
          "output_type": "stream",
          "name": "stdout",
          "text": [
            "MAVTIRQEGRLTFLRPLPGAPMLVQTMKVVKGVFTRLQTTGESFSWPHLQYRAEYFIFLYPAGWVRAGADLLTLKARPERGVTLSCHRFRQSVCYHMSAPRQRVNLIRSVPERKGSTKARSKVLRTAFSVKCSPKSRILYRDAPPHALESHRDQRLDRLTRWSASSYLLSKFTLRGLGYIDRDAIIDIVNRTQVSGRYKPNPSAGPTHYWTYSSALLLNVQPSSAAKLSPKVGICKTRVPNPVHLAWLQTKGLSPVVHLWIYFQLYSEVSFISRSHLNTVTGLRSVTYIWGCPDPEVLASIREYMRGAIQGVWERRHAVSHYLGDFVYHAVALYPGTDGSHDQKHSDEVEGSRDGLPGCLRRPKLKPCLRADSENWAGTGYAPSGQSGQWRKFSWSAPDIRRYAGSTTSGNVPSNTARGKNCPPTHERSKFAGNTEPVVGALVGYSEWQASAVRRELLALYSFGVRWRRVCYLLSHRRIATFSLVLRNFDDTYLAANFIASSVKQLVGRTAAPAWAANLLFALFHPRSLEQWCGLNRKRRLRKPTPVQCDGSLLRNTLDRRRKTFATARIPLRRHGKRVKLSTLFFTRVDYGYLRDKRPSPQVIVGPQWPQPRVDAIVLLYEVHITNPSPGVYWVLGRDLDRPACHIANPETKKIYGVKVQGASDYDLLLVGLLSMLHAHLGPCGGLVGLADRLRLVVRLVNVTYSQHRSCTTGLPRGGPLDGPSVRPLYVYSVNVRSLPYYFRPSWTSCTANLHVIGDTWSVSDCTSQLKEGLVLPIQRAIIWAYIQIPLLYTLKSRKRGGESWSLPSPGLLAFPPQPLESIIYKHTLIQLGLERFRCIFTDLTLHLKKRFTLIRLRQSLGKGVHTQQLELHYLQAALGRNVNRLRVRVPREIASRSHRPNKFYCLRFHDLDTFPTAQAKIGHALEFVGSPVMNTGHDVIQSYIYAYQQLWPPKGPPLARVSRIRSRCQSDDPNQLNRRIYTEGLCATPGRASCHIALAEWASPRCCEACRVIGVIRVRCDAAKGAFAVVCASLLKDGSYWGRLTIALSGTEKYAAHADPQPSPYIDERHSPTLVYGAQQLSDLRIICLLHLVCYVLTSHITSVPQGTRVTSFRNKFAIHTYGHRSPVFPIFMCFGWKRFVIDYPIGRRALACIISDGVGWTYRIAGVYMISSRGLISILEWTSQPVDQAIAYVAFAPRVPHQNTIGKTSTKHREMSLGEPGPYSPTKVTITPSVKSTTVKEIFLRLWDVKDGRAQTLCRESLSRHPSRWLTPVSATRFGDIAIKFWVSSRRVRIKIKIGQGRAGKQRRELGILNPYIHFGILTTCCQSASRKRHSGSPLLLPLVFESVVLESRAVSNILLVHALACEVFGDGEGGTNGCRTCSASMLVNSRSGPSGVRTMSVTGTSSMLNLSSPRVTIRSRLRVELNWLVVFTYHFCLDGAMCTQYHTTSRRLPQRVRVNMIVKVNNIHAYILLSVPFLTGERVGIRCGSINVVLAILESTWANSSTPFALLGTGTRRKFRVVMSCKQPRNAPSSVSTPNQCHNIALRVDTSSLSRKDRQIIVRVVTMSWQIGIRYYRHQSSNRILLLASSTVCPSRRNLREDVITVCVLISSEIFILVRDAVGFWCFSSTGILSLLPHVVTATYAQLGTCLSGRFLGSQKIMRRCSHDELRPAQGPPCLYGPPATRVGPLFWARRVSMTTTHSLGPGICCPRHSSSGWFIDSLVMGLSGWFTRFFSLRVDVSKPVAGPPGAIVFRLRSQTVLKFAALVCHLECPSTLLLIGGPSRQGIFLSGMASILHWRIPKRPRAEISKRSILAACATHGHIALGWLSRTLRKYSFNRLIMTQSTNDCGCRVTGILNKYIGFVCHDTTMNEKRHPCLPRSWIRRLSVSTLSVTESTQGQIGHAETLMRCIPVLTRCVGYTSSTAHDQHVVICQHRYTGNRLQYPVLLLITDCDAKELSSSPNGHRACSSLTGNDQKSPSSACYSLSGHMYTYVDCMRIPAKSLLVFASTVTGPRVQVLFCHVLKRPASTKRWRIPKRAFWGPNILTRCGHGTAMVLSSSRNAMIGVLVWDQRPVEVQHGQPRLVLTWEQTHRSLYVRYIGDDWSDHPSAQLEPYPLENRSHTSMYSPSFIRLSNKIHVARNMTPRPRYRSSKYRRDHCERTNLPTLVLYPRPTSTLKSVWQIAESEIPPRLSSFTHKREHSTRTLPPGQGSSIGPKNDRKANDGFDSRDGLSQRTTSSMESDLGSKSQFPFTHCALRLWQTRICLWHCYMQMTSVQATPYDLPTTTRVLHFVMQGGQLSLSMPLGFKPVTAEMGKSSSDKDQTTKLLRYPVGKKQWPLINAIKPELCSTWRHVSGHHETHLCHAISTSANTCRCVVRSRSGAHIEELPALQILLSMGYTARKVDSLNCPFELHLGLSLIQSLWSLVWQERFASKRAASDSNSWLRRQHGLLCLISGPPYLRPHHLSLHTHYSPVMYNPAPEVEMMYVQTIRKPRPSRPPGFPFAPPRVTVAQLRNSRRIAGRRGYSYGTRYPPLNEGGGCCRQSSLPLISCASCHLTTHARASLLFSGGPRNDVSLRVLHVKGKPKATRQGRIQRTSRNGSTCETLGRGRNCDVRNSRRELSLRPDVPSGYSLSGPYVVAASLIVEALTPVHRRPDVFFRPKLMQTDPRRIRPDNVSVCSRFKNKILEQQLFENARHCKMCHAVSNRLFVITFLVMRSVLWFLSILCCKPRYTYQCLSTARQLMFFVTSFMRDPATLVGLSILYKGHLSTSYRGCVISEKLPKRQTACR\n"
          ]
        }
      ]
    },
    {
      "cell_type": "markdown",
      "source": [
        "####**<font color=crimson>TASK 21.3 Commit to GitHub**</font>"
      ],
      "metadata": {
        "id": "dvtR4N7L6sZ_"
      }
    },
    {
      "cell_type": "markdown",
      "source": [
        "#<font color=blue>**P22.**</font> SeqIO – a function to parse( ) sequence files"
      ],
      "metadata": {
        "id": "bDJqtRiX3fEG"
      }
    },
    {
      "cell_type": "markdown",
      "source": [
        "####**TASK BP 22.1** Read in the practice dataset from Rosalind #9 and print the id of each sequence in the file."
      ],
      "metadata": {
        "id": "VKyMhLjx7nIo"
      }
    },
    {
      "cell_type": "code",
      "source": [
        "from Bio.SeqIO import parse\n",
        "\n",
        "for seq_record in parse(\"practice_9.txt\", \"fasta\"):\n",
        "    print (seq_record.id)\n",
        "    print (seq_record.seq)\n",
        "    print (len(seq_record.seq))\n",
        "    print (seq_record)"
      ],
      "metadata": {
        "colab": {
          "base_uri": "https://localhost:8080/"
        },
        "id": "xUi3JEoh7yJ6",
        "outputId": "0268cd9f-2c8c-4763-d3bd-02d54c9b0afd"
      },
      "execution_count": null,
      "outputs": [
        {
          "output_type": "stream",
          "name": "stdout",
          "text": [
            "Rosalind_6404\n",
            "CCTGCGGAAGATCGGCACTAGAATAGCCAGAACCGTTTCTCTGAGGCTTCCGGCCTTCCCTCCCACTAATAATTCTGAGG\n",
            "80\n",
            "ID: Rosalind_6404\n",
            "Name: Rosalind_6404\n",
            "Description: Rosalind_6404\n",
            "Number of features: 0\n",
            "Seq('CCTGCGGAAGATCGGCACTAGAATAGCCAGAACCGTTTCTCTGAGGCTTCCGGC...AGG')\n",
            "Rosalind_5959\n",
            "CCATCGGTAGCGCATCCTTAGTCCAATTAAGTCCCTATCCAGGCGCTCCGCCGAAGGTCTATATCCATTTGTCAGCAGACACGC\n",
            "84\n",
            "ID: Rosalind_5959\n",
            "Name: Rosalind_5959\n",
            "Description: Rosalind_5959\n",
            "Number of features: 0\n",
            "Seq('CCATCGGTAGCGCATCCTTAGTCCAATTAAGTCCCTATCCAGGCGCTCCGCCGA...CGC')\n",
            "Rosalind_0808\n",
            "CCACCCTCGTGGTATGGCTAGGCATTCAGGAACCGGAGAACGCTTCAGACCAGCCCGGACTGGGAACCTGCGGGCAGTAGGTGGAAT\n",
            "87\n",
            "ID: Rosalind_0808\n",
            "Name: Rosalind_0808\n",
            "Description: Rosalind_0808\n",
            "Number of features: 0\n",
            "Seq('CCACCCTCGTGGTATGGCTAGGCATTCAGGAACCGGAGAACGCTTCAGACCAGC...AAT')\n"
          ]
        }
      ]
    },
    {
      "cell_type": "markdown",
      "source": [
        "#<font color=blue>**P23.**</font> SeqUtils.gc_fraction( ) – a function to compute GC content"
      ],
      "metadata": {
        "id": "SAjUYBpe3pwi"
      }
    },
    {
      "cell_type": "markdown",
      "source": [
        "####**TASK P23.1** Modify the script from TASK P22.1 so that it prints the GC content for each sequence in the file"
      ],
      "metadata": {
        "id": "kEjUu8HfHniC"
      }
    },
    {
      "cell_type": "markdown",
      "source": [
        "####**TASK P23.2** <font color=orange> **Complete Rosalind #9  Computing GC Content**</font>"
      ],
      "metadata": {
        "id": "nJeXcQR7HwOf"
      }
    },
    {
      "cell_type": "code",
      "source": [
        "def parse_fasta(data):\n",
        "    fasta = {}\n",
        "    label = None\n",
        "    for line in data.strip().splitlines():\n",
        "        if line.startswith(\">\"):\n",
        "            label = line[1:].strip()\n",
        "            fasta[label] = \"\"\n",
        "        else:\n",
        "            fasta[label] += line.strip()\n",
        "    return fasta\n",
        "\n",
        "def gc_content(seq):\n",
        "    gc = seq.count(\"G\") + seq.count(\"C\")\n",
        "    return (gc / len(seq)) * 100\n",
        "\n",
        "# Input data\n",
        "data = \"\"\">Rosalind_3843\n",
        "TGGATGATGTAGTTGAGCCATTCGGATATTAAGATTTTGCGTTCTCAGATAATTACGGAT\n",
        "AGAAGTGAAAACCACGTGGCTACGGGGGGCATCGTCTATTCTTGACATCACCACCCCACG\n",
        "TTAGGGTCATTCTTTGGATCTCTATGAATACACAGAAAAACGAATACAAGAGGGAGCTCA\n",
        "GCGTTCTGTCCCTATGGCTAGCTTAAAAAACTACGGCAGTAATGCATTGGTCGATGGTGG\n",
        "CACACAGGTGCCTTTCCGAGGTTGTGCTCTCGGGGCACATATTGTGGACTTGGTTGACAT\n",
        "CCATCCAACGTGAGGTTAAGGCAAGTGGACAGAGATGGACCCTGCACTAGCCAGGTAATT\n",
        "TGTGACAATATCTTATGTGTCTGCCCAGAAAAGAATTTCTTCTGTTGGAGCCCTCTGAAC\n",
        "CAACCCGAGTTCGTTGTCCGTGCCGGATAGCGATCTAACCGGAACACATTGTGTTCGACT\n",
        "TCAATCTTAGATTCAGAAGTTCAACACTAGTGACCCCGGAGACCTTACAAACTCGAGCAG\n",
        "CTCTCCGAATCCTGCGGATTCAAACAAAGAGAACCTCTCTTGTACAAACATAGAGTCGTC\n",
        "ACAGGAACAGGCTTCGTCACAGGAGGCCTCTTATGCTCAGTTGATGTGGCTGTTGACCGG\n",
        "AAGCTTCACCTTATGAAGTAGAGTGATCAGTTTCGAGGCCCGATCGAAGCTCATGAGGTA\n",
        "GGCCTTGATTATTCGCTGAAGCGACGGTCTGCATGTACAGCGACATCAATGAGAGACAAA\n",
        "CACCCTTACCATGCGTAACAACCCCGAGCTATTTTTATAT\n",
        ">Rosalind_4065\n",
        "TAGAGGGCTCTGGTGGCTACTAGCGATCCTGCACGCAAACTGATGCAACATTCTATTCGA\n",
        "GTCACGCGTGCCGTCCACATTAATCGTAGCAGCACAGCTCTGTAAGGGTTAGGCTCATAG\n",
        "CCTTCCGGGGGAACGTACTCTCCTGGGTTTTTGATAACTGGGGCACGCATCCTAGGGCTA\n",
        "CGTGGATCGCAGCTTCTCTGGTCATATAGATTCCTTTCGCCCCTGTAGAGTCCTCGACTG\n",
        "AAAACCTGCTAATTTTGTCTGTCTCAACCGACTTCTTGAATAAGGAAGGGAGAATAGCAG\n",
        "CCGTAGTCAGAAGGGTACCGCTGCCAATGGTATATTAAGTTCGTTCCACGCTAGATACGT\n",
        "GGACGGCGGGCTCCATTTAGGTGAATTAATCGGCCTAAGAGCGGCGTGCACATGGATATG\n",
        "ACCCTGAGTTGTGAATTTGTTAAACTTCCCGTAGGGATTCCGTGTAGTTAGCGCGCCCCT\n",
        "GTTAAATTAAAACAAAGCACTCCATTTAGCGGAACTTCCCACTGTACACAAACCCCGTAT\n",
        "TCTTACACCATACTGTCAGCCACGATTACCTGACTAATAAACTGCTGGTAATCCATGTCT\n",
        "TGGGAAACTGGAAGCGGCCGCAATCAAATACTAGTAGAAGCCTGAATTTGTATGAGCCCC\n",
        "TTACTGCTTGACATCCCGGGACCAATTACGTCTAAGGTTTCGCTACGTAGGGGTTATGAA\n",
        "CCCTCTAAGCGCTCACGTGAAATCAGTCGCCGTAAGAATGAAGTTCCACCGCACAAGCTG\n",
        "TGCAAGCCGCGTCCCGGAGGCAAGATGCAACTTTCGGCCCAAACCGCGTTGTATACCCCG\n",
        "ATCACATTAACAGCAGGCGACC\n",
        ">Rosalind_3858\n",
        "GGAGCACAAACCCCGATAATCCAGATCAATCTGCTAATTTCTGGTCGTTACCGTTCCTAA\n",
        "AGCCGCCCTCAGGATGAGGAGAGCACGGAGTGCACATCATCATATGTATTTCCGTATGGG\n",
        "TGTGGTTGCAGGTGACTAATCACGCGGGGACATCCGAGGGCACAAGGTACGTGCCGGCGT\n",
        "TGATCCAACCCTGTACCCCACGGCCTCAAGGAGCGCGTACGATATCGGGCCCCTGTCATA\n",
        "CTGAGCGAGTATGATCAACTCATGAGAACACGTCTGCGGTACATCCGCCCACGATCATCT\n",
        "TCTTCGCAAGAGGGCTAACGACTTTGGGCGATGGACTTGTCGTGGTCCTCGGACGGGACA\n",
        "TCTCCCGTTCTCTGATAATGTGCCTCGTCAGAAGGATAACTATTTGCTCCTCGAGATTTT\n",
        "GACGGCACGTATGAAAGACTTCTCTATAGGCTGTTGGACAACCCGCTCCTTCAGAACGTC\n",
        "GAATCATACGGAATGGTTTCACTTTCGTTCAGGGATGCACAAAGTGTAGGACCCGCAGTG\n",
        "GGTTTTGACGTGTACAGTTAAATCCAGGGAATTCAATAGTATCTCCGTATACAGGCTCCC\n",
        "TCCATAGGTAAAAAGCGTCCTTCCGAAGGCGTTACACTTCTGCGCGCACAGAGCTCAGCG\n",
        "TGCGCAGTGAAACCTTAGCGATGTCAAATCATACGAACTCCGGAGATAGAACCGGCCTTG\n",
        "GCATAGGTGACGGGCACCTTTACCGTCGAGTTTCTAGCCTGGCGTCATAGTCGGACACGC\n",
        "TCCCAAGCTCGCCAAGGGCAGCCACGG\n",
        ">Rosalind_1669\n",
        "ATGTGTTCCGGAGACACAGAACTGGACACCCGACCGTGTCGCCGGGCCCAGCTTGGTATG\n",
        "TAACGCTAATGTCTCCTCCTCCGTTACAGTCCCTTCGCATGTTTACTAGTTATGAGCCCA\n",
        "AGCAGGACATGAATATTTCAAATCGTACGCGAGTCTCACCTGGTACGATTCGAGGCTCTT\n",
        "ACGCCCTGCGGTTGCCGGGCAATGTCAGCTCAATTTTGTCAGGAGCGTGATTATATTGAC\n",
        "GTCCGTTTTCCTCAACGATAAGACATGGCGGTGATCGTACTTGGGGTCTGGGCAGTACTC\n",
        "GCCCAATTGGGGCGACGCAGTCGAGCAGCATAGCAGGCCCTTAGTGCACGGTGCGCTCCA\n",
        "GCACAGTAGTGGTTAAGGGTGCAGGCAGGAGGAATTATAGTCCGCCGCCTAAACACAGGG\n",
        "AACTCCATTTAGACTATGACTGGCCTATGGGCTGCATCCTGAATGGCTTTATCGTTCAGG\n",
        "CCCTGACAATCTTCCAGCTTTGATCCCTTGTCTCATTCCTCGAGCCGAGCCGCACGCCTT\n",
        "CGCACAAGAATCCGTGAGGCGATACCCTCACAGCGTGTCCCTCAATGCCTCGTTACCGGT\n",
        "GTGGACCTACGAGGTTGCCGCGGGCCGTGGTAAGTGTTCGTACGCGAACGAGCGACTTCC\n",
        "CTTTGTCCACATAAAGGAATCCCTGCCGAGTCTTAGGCTCATTGGCGCTCCTCTAGGGTT\n",
        "CCACGCTCGAGTTCTCCGACCGGATGAACTACAAGGGCGATCCGCCACGCACATGCTTTG\n",
        "TGGGACATACCACCATCGCTTGGTGTGCGTAAGTTTCATGTGAGGATATCTTCCTTCTTG\n",
        "ATTCGAGCTGATGAGTGTATAGGTGAAACTCCGTAGGCCGCGACGCCCCTCTAGGATTCG\n",
        "TCGCCACTGATCACGCAGCATCCACAGGTCAGGCCGACTCCATTGATATCAGACTTGGAG\n",
        "TA\n",
        ">Rosalind_9977\n",
        "GCTAATACATACAAGCCGTAGAAGTCAGCAATACAGCAATTCTTGTACTAAATGTAAAAG\n",
        "TGCAGTTGTAGCCGCAGTGAGGCTCAGAGGAAAGATATCGTAATCGCCGGGGATCCCGAC\n",
        "ATCGGGGGCCCCGCCGCAAAGTCCCCCCCGCAGGCGATGACAGGAAGGTATGAAGGTTCT\n",
        "AACTGCGGAAGGTCTTTTCGGCCCACCTGAGACGAGTAACTGTAGCCGAATTAGTACCAG\n",
        "TATGAACGAGAGTCGCACACAACCACCCTCATGGATAGTATACCTACCGGCCAAATTATT\n",
        "GGATACAGAGTTTTCAAGACCTCGCTTGCACGCACGTGACGGCGAATCGTTGACAGGTTA\n",
        "CCCTATGTCCACATTGGTAATATGAAAAATTATCGGGGCGTCGTTACCCTGGAACGCTGG\n",
        "ACGGCGTCCTTTGCACATCTTCTCCGCTGAAGGAGTCTCAGGACATCGCAGCGTGACACT\n",
        "TTAGGGTTCGGGTTGAACCGAATTAGATTAAGAAGTTAGAGCTGTGTTCGCCTACCAAGT\n",
        "GTTTTGTCCCGGCGAGGGGTTCCTGACCGGTCTCAAGTGGGCGTACAGGTCGCGTCCCTC\n",
        "GAATAGGAAAGTCTACGCGGAATATATGCTCTCGTACCCGTACAGGATGTTGGGTCTGCC\n",
        "ACAAGTACAAAGCCTATTGGGACAAACACCGCGACCTGTACTAAGGTGATTTCACACAAG\n",
        "TCCAAAGAATACGTCGCGCCGACCTCGCGAGCCACCAGTGAAGATATGGCGCTATGTACA\n",
        "CGGGATACCATGAATCCTTCCAAGCCCTAAGCGTTATGTCCCGATATACCTCTGCCCAGC\n",
        "TTCTGAATCCAGGCTGAGAGGACCCTGAGTAGAATAATAGGCTCTGTGGT\n",
        ">Rosalind_7375\n",
        "AGACGCCGGGTTGACACGATCAGTGAAGTTTTTCTTGCTATAAGTTCCGTGGAATGACCA\n",
        "GACGGAGGTATGTCAGTTTAGGCTACGTCAACGGGTTGGCCTCGCTAAGAGCTCATGAAT\n",
        "GCCCTCCAAAATCCATCAATTCCGTCTACTGACTTCTAACCGATCAGTAAGGAACTCCAG\n",
        "GTTATAATTTCGCTGAAATTCAGAGTTAAGACGGACTAGGGTATTGCCTCACGGGCTAGA\n",
        "TTTTTGCATTCAGGCCCGCAGGGGGGATGATTTCCAGCGGTAATCAGGGGGCGTAATTAT\n",
        "TAATTAAGAGTTCCTGAAGAGCCACGTTTGGTCTATGACCACCATCCACATTTCTGCTAG\n",
        "CATGCAACCCCTACCAAGAGGGTCTACTGCATTGCTGGGTAGACCGTCACGATCCCAAGA\n",
        "ATGCATCCTTTAAGCAGCCCAGGTTAGTGAACGAGGCCCCGCAAGCATTGGACTCGGGGA\n",
        "GTTTGATTGTCAGAATGCGCTCCCGAACATCATGAGGGCCTCCCCGACACTGGCTAAAGG\n",
        "GCAACGGATCCTGACGAAACCCTCACGGTTACATCAACAAGTCTACGCCCTGATTTGTTG\n",
        "CGTGTTCTATCTACCCACCCTAGTTAAGATTGGCCGGATTTATACACTACGGAAGTCTAC\n",
        "AGGAATGGACTGAATAATCAGATCTGTAACACACCGCAGGGCCTAGAAGTGTCGCCCCCC\n",
        "GCATTCCAACCTATAATAGCGCCAGCAGCGACAATCCCACAGCTGTACTTTGTCTCCGTC\n",
        "ACATTGCGACCATACTTATGCTAGCGGAGCCTATTCATAGGCGTAAGGAACCGCCCGAAG\n",
        "AGTAGCGACATTGCGGGATCGGGTCTTCAGTAAGAGTTCTTAGCATGATTCTGAGTACGC\n",
        "TAACTACGCAGACGGGATGATCCTGGGGAAGGGCATTTCTCCCCGGTTCCTCATTTCTCC\n",
        "GCGTGAGCC\n",
        "\"\"\"\n",
        "\n",
        "# Parse FASTA data\n",
        "fasta_records = parse_fasta(data)\n",
        "\n",
        "# Find sequence with highest GC-content\n",
        "best_id = max(fasta_records, key=lambda k: gc_content(fasta_records[k]))\n",
        "best_gc = gc_content(fasta_records[best_id])\n",
        "\n",
        "# Output\n",
        "print(best_id)\n",
        "print(f\"{best_gc:.6f}\")"
      ],
      "metadata": {
        "id": "n70-1NUSYya3",
        "outputId": "dda26fbe-d29e-41f4-c841-2ac0f2c46dba",
        "colab": {
          "base_uri": "https://localhost:8080/"
        }
      },
      "execution_count": 16,
      "outputs": [
        {
          "output_type": "stream",
          "name": "stdout",
          "text": [
            "Rosalind_1669\n",
            "54.469854\n"
          ]
        }
      ]
    },
    {
      "cell_type": "markdown",
      "source": [
        "####**<font color=crimson>TASK 23.3 Commit to GitHub**</font>"
      ],
      "metadata": {
        "id": "gavUUL39INzP"
      }
    },
    {
      "cell_type": "markdown",
      "source": [],
      "metadata": {
        "id": "Zf_OZq9R0dnq"
      }
    }
  ]
}